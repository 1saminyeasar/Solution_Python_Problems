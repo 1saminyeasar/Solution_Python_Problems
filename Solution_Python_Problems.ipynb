{
 "cells": [
  {
   "cell_type": "markdown",
   "id": "4dc06941",
   "metadata": {},
   "source": [
    "# Python Conditions: "
   ]
  },
  {
   "cell_type": "code",
   "execution_count": 2,
   "id": "2d87d922",
   "metadata": {},
   "outputs": [
    {
     "name": "stdout",
     "output_type": "stream",
     "text": [
      "lenght = 78\n",
      "bredth = 34\n",
      "This is not square\n"
     ]
    }
   ],
   "source": [
    "#1. Take values of the length & breadth of a rectangle from user input and check if it is square or not. \n",
    "l = float(input('lenght = '))\n",
    "b = float(input('bredth = '))\n",
    "\n",
    "if l==b:\n",
    "    print('It is a square')\n",
    "else:\n",
    "    print('This is not square')"
   ]
  },
  {
   "cell_type": "code",
   "execution_count": 3,
   "id": "8f1bd4be",
   "metadata": {},
   "outputs": [
    {
     "name": "stdout",
     "output_type": "stream",
     "text": [
      "integer 1 = 78.43\n",
      "integer 2 = 13.54\n",
      "integer 3 = 97.35\n",
      "integer 3 is the greatest\n"
     ]
    }
   ],
   "source": [
    "#2.Take three integer values from the user and print the greatest among them.\n",
    "a1= input('integer 1 = ')\n",
    "a2= input('integer 2 = ')\n",
    "a3= input('integer 3 = ')\n",
    "\n",
    "if a3>a2:\n",
    "    if a3>a1:\n",
    "        print('integer 3 is the greatest')\n",
    "    else:\n",
    "        print('integer 1 is the greatest')\n",
    "else:\n",
    "    if a2>a1:\n",
    "        print('integer 2 is the greatest')\n",
    "    else:\n",
    "        print('integer 1 is the greatest')"
   ]
  },
  {
   "cell_type": "code",
   "execution_count": 9,
   "id": "96980265",
   "metadata": {},
   "outputs": [
    {
     "name": "stdout",
     "output_type": "stream",
     "text": [
      "Number of class = 70\n",
      "Number of days present = 60\n",
      "Allowed for exam\n"
     ]
    }
   ],
   "source": [
    "#3. A student will not be allowed to sit in an exam if his/her attendance is less than 75%.\n",
    "n = int(input('Number of class = '))\n",
    "a = int(input('Number of days present = '))\n",
    "if a/n > 0.75 : \n",
    "    print('Allowed for exam')\n",
    "else:\n",
    "    print('Not allowed')"
   ]
  },
  {
   "cell_type": "code",
   "execution_count": 10,
   "id": "b47dfc07",
   "metadata": {},
   "outputs": [
    {
     "name": "stdout",
     "output_type": "stream",
     "text": [
      "Enter the marks = 55\n",
      "C\n"
     ]
    }
   ],
   "source": [
    "#4. A school has the following rules for the grading system:\n",
    "#Below 25 – F, 25 to 44 – E, 45 to 49 – D, 50 to 59 – C, 60 to 79 – B, 80 to 89 - A, Above 90 - A+\n",
    "\n",
    "m = float(input('Enter the marks = '))\n",
    "if m<25:\n",
    "    print('F')\n",
    "elif 25<=m<=44:\n",
    "    print('E')\n",
    "elif 45<=m<=49:\n",
    "    print('D')\n",
    "elif 50<=m<=59:\n",
    "    print('C')\n",
    "elif 60<=m<=79:\n",
    "    print('B')\n",
    "elif 80<=m<=89:\n",
    "    print('A')\n",
    "elif 90<=m<=100:\n",
    "    print('A+')"
   ]
  },
  {
   "cell_type": "markdown",
   "id": "247e94ad",
   "metadata": {},
   "source": [
    "# Loop Problem"
   ]
  },
  {
   "cell_type": "code",
   "execution_count": 37,
   "id": "d66a6c74",
   "metadata": {},
   "outputs": [
    {
     "name": "stdout",
     "output_type": "stream",
     "text": [
      "1 2 3 4 5 6 7 \n",
      "1 2 3 4 5 6 \n",
      "1 2 3 4 5 \n",
      "1 2 3 4 \n"
     ]
    }
   ],
   "source": [
    "#5. Print the following pattern using for and while loop.\n",
    "#1 2 3 4 5 6 7\n",
    "#1 2 3 4 5 6\n",
    "#1 2 3 4 5\n",
    "#1 2 3 4\n",
    "\n",
    "rows = 4\n",
    "high = 8\n",
    "for i in range(1,rows+1):\n",
    "    for j in range(1,high,1):\n",
    "        print(j,end=' ')\n",
    "    print('')\n",
    "    high=high-1"
   ]
  },
  {
   "cell_type": "code",
   "execution_count": 38,
   "id": "ea0cb7c6",
   "metadata": {},
   "outputs": [
    {
     "name": "stdout",
     "output_type": "stream",
     "text": [
      "-100\n",
      "-99\n",
      "-98\n",
      "-97\n",
      "-96\n",
      "-95\n",
      "-94\n",
      "-93\n",
      "-92\n",
      "-91\n",
      "-90\n",
      "-89\n",
      "-88\n",
      "-87\n",
      "-86\n",
      "-85\n",
      "-84\n",
      "-83\n",
      "-82\n",
      "-81\n",
      "-80\n",
      "-79\n",
      "-78\n",
      "-77\n",
      "-76\n",
      "-75\n",
      "-74\n",
      "-73\n",
      "-72\n",
      "-71\n",
      "-70\n",
      "-69\n",
      "-68\n",
      "-67\n",
      "-66\n",
      "-65\n",
      "-64\n",
      "-63\n",
      "-62\n",
      "-61\n",
      "-60\n",
      "-59\n",
      "-58\n",
      "-57\n",
      "-56\n",
      "-55\n",
      "-54\n",
      "-53\n",
      "-52\n",
      "-51\n",
      "-50\n",
      "-49\n",
      "-48\n",
      "-47\n",
      "-46\n",
      "-45\n",
      "-44\n",
      "-43\n",
      "-42\n",
      "-41\n",
      "-40\n",
      "-39\n",
      "-38\n",
      "-37\n",
      "-36\n",
      "-35\n",
      "-34\n",
      "-33\n",
      "-32\n",
      "-31\n",
      "-30\n",
      "-29\n",
      "-28\n",
      "-27\n",
      "-26\n",
      "-25\n",
      "-24\n",
      "-23\n",
      "-22\n",
      "-21\n",
      "-20\n",
      "-19\n",
      "-18\n",
      "-17\n",
      "-16\n",
      "-15\n",
      "-14\n",
      "-13\n",
      "-12\n",
      "-11\n",
      "-10\n"
     ]
    }
   ],
   "source": [
    "#6. Display numbers from -100 to -10 using for loop. \n",
    "for i in range(-100,-9,1):\n",
    "    print(i)"
   ]
  },
  {
   "cell_type": "code",
   "execution_count": 44,
   "id": "b7309769",
   "metadata": {},
   "outputs": [
    {
     "name": "stdout",
     "output_type": "stream",
     "text": [
      "Enter the number : 5\n",
      "120\n"
     ]
    }
   ],
   "source": [
    "#8. Find the factorial of an n! (Hint, n=7: 7*6*5*4*3*2*1). \n",
    "\n",
    "n = int(input('Enter the number : '))\n",
    "fact=1\n",
    "for i in range(1,n+1):\n",
    "    fact = fact*i\n",
    "print(fact)"
   ]
  },
  {
   "cell_type": "code",
   "execution_count": 56,
   "id": "1ea6be6d",
   "metadata": {},
   "outputs": [
    {
     "name": "stdout",
     "output_type": "stream",
     "text": [
      "Enter the number = 0864250\n",
      "0524680\n"
     ]
    }
   ],
   "source": [
    "#9. Reverse a given integer number 27956240710\n",
    "\n",
    "num = input('Enter the number = ')\n",
    "size = len(num)\n",
    "reversed_number = num[size::-1]\n",
    "\n",
    "#print(int(reversed_number))\n",
    "print(reversed_number)"
   ]
  },
  {
   "cell_type": "code",
   "execution_count": 73,
   "id": "9bf48994",
   "metadata": {},
   "outputs": [
    {
     "name": "stdout",
     "output_type": "stream",
     "text": [
      "# # #  \n",
      "# # # #  \n",
      "# # #  \n",
      "# #  \n"
     ]
    }
   ],
   "source": [
    "#10. Print the following pattern using for and while loop. \n",
    "# # # \n",
    "# # # # \n",
    "# # #  \n",
    "# # \n",
    "\n",
    "\n",
    "#using for loop\n",
    "\n",
    "for i in range(4):\n",
    "    if i==0 or i==2:\n",
    "        for j in range(3):\n",
    "            print('#',end=' ')\n",
    "        print(' ')\n",
    "    elif i==1:\n",
    "        for j in range(4):\n",
    "            print('#',end=' ')\n",
    "        print(' ')\n",
    "    else:\n",
    "        for j in range(2):\n",
    "            print('#', end=' ')\n",
    "        print(' ')"
   ]
  },
  {
   "cell_type": "code",
   "execution_count": 72,
   "id": "b68c23a0",
   "metadata": {},
   "outputs": [
    {
     "name": "stdout",
     "output_type": "stream",
     "text": [
      "# # #  \n",
      "# # # #  \n",
      "# # #  \n",
      "# #  \n"
     ]
    }
   ],
   "source": [
    "#using while loop\n",
    "i=0\n",
    "j=0\n",
    "while i<4:\n",
    "    if i==0 or i==2:\n",
    "        while(j<3):\n",
    "            print('#',end=' ')\n",
    "            j+=1            \n",
    "        print(' ')\n",
    "        i=i+1\n",
    "        j=0\n",
    "    elif i==1:\n",
    "        while(j<4):\n",
    "            print('#',end=' ')\n",
    "            j+=1            \n",
    "        print(' ')\n",
    "        i=i+1\n",
    "        j=0\n",
    "    else:\n",
    "        while(j<2):\n",
    "            print('#',end=' ')\n",
    "            j+=1            \n",
    "        print(' ')\n",
    "        i=i+1\n"
   ]
  },
  {
   "cell_type": "code",
   "execution_count": 75,
   "id": "29dfbb99",
   "metadata": {},
   "outputs": [
    {
     "name": "stdout",
     "output_type": "stream",
     "text": [
      "Upto how many sequence : 15\n",
      "0 1 1 2 3 5 8 13 21 34 55 89 144 233 377 "
     ]
    }
   ],
   "source": [
    "#11. Display the Fibonacci series of 15 elements using the for and while loop.\n",
    "seq = int(input('Upto how many sequence : '))\n",
    "n1=0\n",
    "n2=1\n",
    "count=0\n",
    "while(count<seq):\n",
    "    print(n1, end=' ')\n",
    "    nth = n1+n2\n",
    "    n1=n2\n",
    "    n2=nth\n",
    "    count+=1"
   ]
  },
  {
   "cell_type": "markdown",
   "id": "5365b30e",
   "metadata": {},
   "source": [
    "# Python inbuilt Data Structure: "
   ]
  },
  {
   "cell_type": "code",
   "execution_count": 81,
   "id": "7069b598",
   "metadata": {},
   "outputs": [
    {
     "data": {
      "text/plain": [
       "[1, 3, 5, [3, 3], False]"
      ]
     },
     "execution_count": 81,
     "metadata": {},
     "output_type": "execute_result"
    }
   ],
   "source": [
    "#12. Remove 2 and add 3 to the list and replace True with False. \n",
    "#Li = [1,3,5, [2,3], True] \n",
    "#Output = [1,3,5, [3,3], False] \n",
    "\n",
    "Li = [1,3,5,[2,3],True]\n",
    "Li[4]=False\n",
    "Li[3][0]=3\n",
    "Li"
   ]
  },
  {
   "cell_type": "code",
   "execution_count": 106,
   "id": "3cad88c6",
   "metadata": {},
   "outputs": [
    {
     "name": "stdout",
     "output_type": "stream",
     "text": [
      "{True}\n"
     ]
    }
   ],
   "source": [
    "#13. Find the intersection (common) of two sets. \n",
    "\n",
    "S1 = {1,4,6,8} \n",
    "S2 = {True,1,2,10} \n",
    "S3 = S1.intersection(S2)\n",
    "print(S3)"
   ]
  },
  {
   "cell_type": "code",
   "execution_count": 110,
   "id": "6d5871d5",
   "metadata": {},
   "outputs": [
    {
     "name": "stdout",
     "output_type": "stream",
     "text": [
      "enter total number of item in your list : 5\n",
      "21\n",
      "21\n",
      "5\n",
      "5\n",
      "7\n",
      "[21, 21, 5, 5, 7]\n",
      "List after removing duplicate elements:  [5, 21, 7]\n",
      "{21, 5, 7}\n",
      "21\n"
     ]
    }
   ],
   "source": [
    "##### 14. Input a list from the user then Remove duplicates from a list and create a set and find the max number. \n",
    "#User_input = [1,9,3,4,5,200,54] \n",
    "\n",
    "list_m = []\n",
    "r=int(input('enter total number of item in your list : '))\n",
    "\n",
    "for i in range(r):\n",
    "    new=int(input())\n",
    "    list_m.append(new)\n",
    "print(list_m)\n",
    "\n",
    "list_u = [*set(list_m)]\n",
    "print(\"List after removing duplicate elements: \", list_u)\n",
    "\n",
    "set1=set(list_u)\n",
    "print(set1)\n",
    "print(max(set1))"
   ]
  },
  {
   "cell_type": "code",
   "execution_count": 117,
   "id": "bfc61931",
   "metadata": {},
   "outputs": [
    {
     "data": {
      "text/plain": [
       "{'name': 'Shakil', 'age': 27, 'city': 'Berlin', 'region': 'Germany'}"
      ]
     },
     "execution_count": 117,
     "metadata": {},
     "output_type": "execute_result"
    }
   ],
   "source": [
    "#15. Rename the key of a dictionary. \n",
    "#Dict = { \"name\": \"Shakil\", \"age\":27, \"city\": “Berlin”, \"country\": \"Germany\" } \n",
    "#Write a program to rename a key ‘country’ to a ‘region’ in the following dictionary\n",
    "\n",
    "Dict = { 'name': 'Shakil', 'age':27, 'city': 'Berlin', 'country': 'Germany' } \n",
    "Dict.keys()\n",
    "Dict['country']\n",
    "old_key='country'\n",
    "new_key='region'\n",
    "Dict[new_key]=Dict.pop(old_key)\n",
    "Dict"
   ]
  },
  {
   "cell_type": "code",
   "execution_count": 124,
   "id": "13ba3383",
   "metadata": {},
   "outputs": [
    {
     "data": {
      "text/html": [
       "<div>\n",
       "<style scoped>\n",
       "    .dataframe tbody tr th:only-of-type {\n",
       "        vertical-align: middle;\n",
       "    }\n",
       "\n",
       "    .dataframe tbody tr th {\n",
       "        vertical-align: top;\n",
       "    }\n",
       "\n",
       "    .dataframe thead th {\n",
       "        text-align: right;\n",
       "    }\n",
       "</style>\n",
       "<table border=\"1\" class=\"dataframe\">\n",
       "  <thead>\n",
       "    <tr style=\"text-align: right;\">\n",
       "      <th></th>\n",
       "      <th>Number</th>\n",
       "    </tr>\n",
       "  </thead>\n",
       "  <tbody>\n",
       "    <tr>\n",
       "      <th>0</th>\n",
       "      <td>10</td>\n",
       "    </tr>\n",
       "    <tr>\n",
       "      <th>1</th>\n",
       "      <td>100</td>\n",
       "    </tr>\n",
       "    <tr>\n",
       "      <th>2</th>\n",
       "      <td>300</td>\n",
       "    </tr>\n",
       "  </tbody>\n",
       "</table>\n",
       "</div>"
      ],
      "text/plain": [
       "   Number\n",
       "0      10\n",
       "1     100\n",
       "2     300"
      ]
     },
     "execution_count": 124,
     "metadata": {},
     "output_type": "execute_result"
    }
   ],
   "source": [
    "#. 16. Creating a data frame using the list. \n",
    "#num = [10,100,300] (column name is number)\n",
    "\n",
    "import pandas as pd\n",
    "num = [10,100,300]\n",
    "df = pd.DataFrame(num, columns=['Number'])\n",
    "df"
   ]
  },
  {
   "cell_type": "code",
   "execution_count": 126,
   "id": "dfd21f72",
   "metadata": {},
   "outputs": [
    {
     "data": {
      "text/plain": [
       "{'name': 'Shakil', 'age': 28, 'city': 'Berlin', 'country': 'Germany'}"
      ]
     },
     "execution_count": 126,
     "metadata": {},
     "output_type": "execute_result"
    }
   ],
   "source": [
    "#17. Change the value of a key in a given dictionary. \n",
    "#Write a Python program to change ‘age’ to 28 in the following dictionary. \n",
    "\n",
    "Dict = {'name': 'Shakil', 'age':27, 'city': 'Berlin', 'country': 'Germany'}\n",
    "Dict['age']=28\n",
    "Dict"
   ]
  }
 ],
 "metadata": {
  "kernelspec": {
   "display_name": "Python 3 (ipykernel)",
   "language": "python",
   "name": "python3"
  },
  "language_info": {
   "codemirror_mode": {
    "name": "ipython",
    "version": 3
   },
   "file_extension": ".py",
   "mimetype": "text/x-python",
   "name": "python",
   "nbconvert_exporter": "python",
   "pygments_lexer": "ipython3",
   "version": "3.9.12"
  }
 },
 "nbformat": 4,
 "nbformat_minor": 5
}
